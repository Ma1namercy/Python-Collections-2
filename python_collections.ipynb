{
  "nbformat": 4,
  "nbformat_minor": 0,
  "metadata": {
    "colab": {
      "provenance": [],
      "authorship_tag": "ABX9TyPrhsf6io2s9ixuGGuVJbG8",
      "include_colab_link": true
    },
    "kernelspec": {
      "name": "python3",
      "display_name": "Python 3"
    },
    "language_info": {
      "name": "python"
    }
  },
  "cells": [
    {
      "cell_type": "markdown",
      "metadata": {
        "id": "view-in-github",
        "colab_type": "text"
      },
      "source": [
        "<a href=\"https://colab.research.google.com/github/Ma1namercy/Python-Collections-2/blob/main/python_collections.ipynb\" target=\"_parent\"><img src=\"https://colab.research.google.com/assets/colab-badge.svg\" alt=\"Open In Colab\"/></a>"
      ]
    },
    {
      "cell_type": "markdown",
      "source": [
        "**List**"
      ],
      "metadata": {
        "id": "a94FNArXsW36"
      }
    },
    {
      "cell_type": "code",
      "source": [
        "bands=['b1','b2','b3','b4','b5','b6','b7','b8']\n",
        "bands.append('b9')\n",
        "bands.remove('b4')\n",
        "print(bands)\n",
        "fruits=['oranges','apples','mangoes','pineapples','pawpaw','pepino']\n",
        "print(fruits[3])\n",
        "list=[1,30,50,60,70,4,8,20]\n",
        "list.sort()\n",
        "print(list)\n",
        "grades=('10','20','30','40','50')\n",
        "grade_list = list\n",
        "grade_list[3]:70\n",
        "print(grade_list)\n"
      ],
      "metadata": {
        "colab": {
          "base_uri": "https://localhost:8080/"
        },
        "id": "gDORrHfAsyRy",
        "outputId": "4175af10-e3cc-46bc-9ee0-4d4c56a9c9e3"
      },
      "execution_count": null,
      "outputs": [
        {
          "output_type": "stream",
          "name": "stdout",
          "text": [
            "['b1', 'b2', 'b3', 'b5', 'b6', 'b7', 'b8', 'b9']\n",
            "pineapples\n",
            "[1, 4, 8, 20, 30, 50, 60, 70]\n",
            "[1, 4, 8, 20, 30, 50, 60, 70]\n"
          ]
        }
      ]
    },
    {
      "cell_type": "markdown",
      "source": [
        "**TUPLES**"
      ],
      "metadata": {
        "id": "Hd2l9Qy8xrdU"
      }
    },
    {
      "cell_type": "code",
      "source": [
        "fruits=('passion','oranges','banana','mango','passion')\n",
        "print(fruits)\n",
        "#determining the length of the tuple\n",
        "fruits=('passion','oranges','banana','mango','passion')\n",
        "print(len(fruits))\n",
        "#creating a tuple with one item\n",
        "fruits=(\"banana\",)\n",
        "print(fruits)\n",
        "#with int\n",
        "marks=(30,43,70,66,80,97)\n",
        "print(marks)\n",
        "#with boolean\n",
        "fruits=('passion','oranges','banana','mango','passion')\n",
        "mytuple=('banana',70,True,'python')\n",
        "print(mytuple)\n",
        "#accessing tuple via  index\n",
        "fruits=('passion','oranges','banana','mango','passion')\n",
        "print(fruits[0])\n",
        "print(fruits[-2])\n",
        "#Updating tuples\n",
        "cars=(\"toyota\",\"benz\",\"nissan\",\"ford\",\"audi\")\n",
        "car_list=[\"toyota\",\"benz\",\"nissan\",\"ford\",\"audi\"]\n",
        "car_list[3]=\"volkswagon\"\n",
        "cars=tuple(car_list)\n",
        "print(cars)"
      ],
      "metadata": {
        "colab": {
          "base_uri": "https://localhost:8080/"
        },
        "id": "XnDy1K97xwkL",
        "outputId": "c5a87325-c96a-4e53-de7d-25900ac772ea"
      },
      "execution_count": null,
      "outputs": [
        {
          "output_type": "stream",
          "name": "stdout",
          "text": [
            "('passion', 'oranges', 'banana', 'mango', 'passion')\n",
            "5\n",
            "('banana',)\n",
            "(30, 43, 70, 66, 80, 97)\n",
            "('banana', 70, True, 'python')\n",
            "passion\n",
            "mango\n",
            "('toyota', 'benz', 'nissan', 'volkswagon', 'audi')\n"
          ]
        }
      ]
    },
    {
      "cell_type": "markdown",
      "source": [
        "**SETS**"
      ],
      "metadata": {
        "id": "GMsVZgp1yN9o"
      }
    },
    {
      "cell_type": "code",
      "source": [
        "fruits={'oranges','mangoes','passion'}\n",
        "marks={70,80,90,100}\n",
        "print(len(fruits))\n",
        "print(len(marks))\n",
        "#using set constructor\n",
        "units= set(('python', 'maths', 'gis', 'cartography', 'applied carto'))\n",
        "print(units)\n",
        "fruits={'oranges','mangoes','passion'}\n",
        "for x in fruits:\n",
        "    print(x)\n",
        "    print('mangoes'in fruits)\n",
        "    print('banana'in fruits)\n",
        "    print('banana'not in fruits)\n",
        "#add items on set\n",
        "fruits={'oranges','mangoes','passion'}\n",
        "fruits.add('banana')\n",
        "print(fruits)\n",
        "#add sets(updating)\n",
        "year1={'communication','life skill','maths'}\n",
        "year2={'python','gis','topo cad'}\n",
        "year1.update(year2)\n",
        "print(year1)\n",
        "#remove items\n",
        "fruits={'oranges','mangoes','passion'}\n",
        "fruits.remove('passion')\n",
        "print(fruits)\n",
        "fruits.pop()\n",
        "print(fruits)\n"
      ],
      "metadata": {
        "colab": {
          "base_uri": "https://localhost:8080/"
        },
        "id": "zXVVcxUxyQCf",
        "outputId": "c9bec382-59c2-45b4-e27e-6bc2796c105e"
      },
      "execution_count": null,
      "outputs": [
        {
          "output_type": "stream",
          "name": "stdout",
          "text": [
            "3\n",
            "4\n",
            "{'maths', 'applied carto', 'gis', 'python', 'cartography'}\n",
            "mangoes\n",
            "True\n",
            "False\n",
            "True\n",
            "oranges\n",
            "True\n",
            "False\n",
            "True\n",
            "passion\n",
            "True\n",
            "False\n",
            "True\n",
            "{'mangoes', 'oranges', 'passion', 'banana'}\n",
            "{'maths', 'gis', 'life skill', 'python', 'topo cad', 'communication'}\n",
            "{'mangoes', 'oranges'}\n",
            "{'oranges'}\n"
          ]
        }
      ]
    },
    {
      "cell_type": "markdown",
      "source": [
        "**DICTIONARIES**"
      ],
      "metadata": {
        "id": "SEXzWJxFyeBw"
      }
    },
    {
      "cell_type": "code",
      "source": [
        "my_dict={\"Name\":\"MERCY\",\"Age\":22,\"Country\":\"KENYA\",\"Profession\":\"Student\",\"Hobby\":\"Travelling\"}\n",
        "for key in my_dict.items():\n",
        "    print(key)\n",
        "for value in my_dict.items():\n",
        "    print(value)"
      ],
      "metadata": {
        "colab": {
          "base_uri": "https://localhost:8080/"
        },
        "id": "pWQv8iIpyhLL",
        "outputId": "49d355e3-c676-413f-903c-ae62789393f9"
      },
      "execution_count": null,
      "outputs": [
        {
          "output_type": "stream",
          "name": "stdout",
          "text": [
            "('Name', 'MERCY')\n",
            "('Age', 22)\n",
            "('Country', 'KENYA')\n",
            "('Profession', 'Student')\n",
            "('Hobby', 'Travelling')\n",
            "('Name', 'MERCY')\n",
            "('Age', 22)\n",
            "('Country', 'KENYA')\n",
            "('Profession', 'Student')\n",
            "('Hobby', 'Travelling')\n"
          ]
        }
      ]
    }
  ]
}